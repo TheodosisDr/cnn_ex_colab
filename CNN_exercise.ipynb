{
  "nbformat": 4,
  "nbformat_minor": 0,
  "metadata": {
    "colab": {
      "name": "CNN_exercise.ipynb",
      "provenance": [],
      "collapsed_sections": [
        "jcu1YkTBsrwO",
        "SSFBNd90wYkB",
        "DhRxdi9-6tib"
      ]
    },
    "kernelspec": {
      "name": "python3",
      "display_name": "Python 3"
    }
  },
  "cells": [
    {
      "cell_type": "markdown",
      "metadata": {
        "id": "YMsaO7sox0f8"
      },
      "source": [
        "# Exercise \r\n",
        "\r\n",
        "(A)Download the MNIST dataset (or simply load it from keras.datasets) and\r\n",
        "use keras to train,(ii) a convolutional neural network to classify\r\n",
        "hand-written digits. Remember to normalize your data.\r\n",
        "\r\n",
        "Once you feel satisfied with your achieved results save your models to disk for\r\n",
        "later use.  Call a MNIST-simple-generator f(w) =x, a function which given an\r\n",
        "input w outputs a 28x28 grayscale image.\r\n",
        "You can think of a MNIST-simple-generator  as  a  neural  network  with  one  input\r\n",
        "neuron,  always  equal  to  1,  as a  function  of  its  parameters.\r\n",
        "In  this  exercise  you  will  build MNIST-simple-generators to construct\r\n",
        "adversarial examples for your models from (A)\r\n"
      ]
    },
    {
      "cell_type": "markdown",
      "metadata": {
        "id": "PM16Ohgbs9Ct"
      },
      "source": [
        "# 1. **Initialization** "
      ]
    },
    {
      "cell_type": "markdown",
      "metadata": {
        "id": "jcu1YkTBsrwO"
      },
      "source": [
        "##1.a Importing google drive "
      ]
    },
    {
      "cell_type": "code",
      "metadata": {
        "colab": {
          "base_uri": "https://localhost:8080/"
        },
        "id": "FvdwQy8fr-M0",
        "outputId": "c05b278a-425a-4d20-a58b-c6486639a4f9"
      },
      "source": [
        "from google.colab import drive\r\n",
        "drive.mount('/content/drive')"
      ],
      "execution_count": 5,
      "outputs": [
        {
          "output_type": "stream",
          "text": [
            "Drive already mounted at /content/drive; to attempt to forcibly remount, call drive.mount(\"/content/drive\", force_remount=True).\n"
          ],
          "name": "stdout"
        }
      ]
    },
    {
      "cell_type": "markdown",
      "metadata": {
        "id": "SSFBNd90wYkB"
      },
      "source": [
        "##1.b Installing tensorflow and keras"
      ]
    },
    {
      "cell_type": "code",
      "metadata": {
        "id": "BnuSLa-HwbYS"
      },
      "source": [
        "!pip install tensorflow\r\n",
        "!pip install keras"
      ],
      "execution_count": null,
      "outputs": []
    },
    {
      "cell_type": "markdown",
      "metadata": {
        "id": "UQ8X563ntnxU"
      },
      "source": [
        "##1.c Improting the libraries"
      ]
    },
    {
      "cell_type": "code",
      "metadata": {
        "id": "412oLgTyu1QT"
      },
      "source": [
        "from keras.datasets import mnist #loading the dataset\r\n",
        "from matplotlib import pyplot\r\n",
        "import numpy as np\r\n",
        "from sklearn.model_selection import train_test_split"
      ],
      "execution_count": 37,
      "outputs": []
    },
    {
      "cell_type": "markdown",
      "metadata": {
        "id": "_RrBQjQi1M5B"
      },
      "source": [
        "# 2. **Data preprocessing**"
      ]
    },
    {
      "cell_type": "markdown",
      "metadata": {
        "id": "8CLMz5V81WV5"
      },
      "source": [
        "\r\n",
        "##2.1 Normalization\r\n",
        "\r\n",
        "We perform a grayscale normalization to reduce the effect of illumination's differences.\r\n",
        "\r\n",
        "Moreover the CNN converg faster on [0..1] data than on [0..255].\r\n",
        "\r\n",
        "\r\n"
      ]
    },
    {
      "cell_type": "code",
      "metadata": {
        "id": "vrAaUWgE1cTB"
      },
      "source": [
        "(trainX, trainy), (testX, testy) = mnist.load_data() #loading the dataset\r\n",
        "trainX = trainX / 255.0\r\n",
        "testX = testX / 255.0\r\n"
      ],
      "execution_count": 35,
      "outputs": []
    },
    {
      "cell_type": "markdown",
      "metadata": {
        "id": "R0hV63U14JAw"
      },
      "source": [
        "\r\n",
        "##2.2 Split training and valdiation set\r\n",
        "\r\n",
        "Splitting the train set in two parts : a small fraction (10%) became the validation set which the model is evaluated and the rest (90%) is used to train the model.\r\n",
        "\r\n"
      ]
    },
    {
      "cell_type": "code",
      "metadata": {
        "colab": {
          "base_uri": "https://localhost:8080/"
        },
        "id": "-Jpxh6ij4ig6",
        "outputId": "c2e8db60-c1ce-4bc7-cc80-e44fc711e9bc"
      },
      "source": [
        "X_train, X_valid, y_train, y_valid = train_test_split(trainX, trainy, test_size=0.1, random_state=0)\r\n",
        "X_train.shape, X_valid.shape, y_train.shape, y_valid.shape"
      ],
      "execution_count": 40,
      "outputs": [
        {
          "output_type": "execute_result",
          "data": {
            "text/plain": [
              "((54000, 28, 28), (6000, 28, 28), (54000,), (6000,))"
            ]
          },
          "metadata": {
            "tags": []
          },
          "execution_count": 40
        }
      ]
    },
    {
      "cell_type": "markdown",
      "metadata": {
        "id": "0BvgNk0n6pjg"
      },
      "source": [
        "# 3. **CNN** "
      ]
    },
    {
      "cell_type": "markdown",
      "metadata": {
        "id": "DhRxdi9-6tib"
      },
      "source": [
        "## 3.1 Defining the parameters"
      ]
    },
    {
      "cell_type": "code",
      "metadata": {
        "id": "KI8HwARg7uYX"
      },
      "source": [
        "epochs = 50\r\n",
        "batch_size = 100"
      ],
      "execution_count": null,
      "outputs": []
    },
    {
      "cell_type": "markdown",
      "metadata": {
        "id": "PonTZvpfuz9c"
      },
      "source": [
        "# Test section"
      ]
    },
    {
      "cell_type": "code",
      "metadata": {
        "colab": {
          "base_uri": "https://localhost:8080/",
          "height": 320
        },
        "id": "Fbwv54f6sED4",
        "outputId": "f79d8be3-e819-4737-98c7-38ba9fb19f2a"
      },
      "source": [
        "\t\r\n",
        "# summarize loaded dataset\r\n",
        "print('Train Shape: X=%s, y=%s' % (trainX.shape, trainy.shape))\r\n",
        "print(trainy[9])\r\n",
        "print('Test Shape: X=%s, y=%s' % (testX.shape, testy.shape))\r\n",
        "# plot first few images\r\n",
        "\t\r\n",
        "# plot raw pixel data\r\n",
        "pyplot.imshow(trainX[9], cmap=pyplot.get_cmap('gray'))\r\n",
        "\r\n",
        "# show the figure\r\n",
        "pyplot.show()"
      ],
      "execution_count": 34,
      "outputs": [
        {
          "output_type": "stream",
          "text": [
            "Train Shape: X=(60000, 28, 28), y=(60000,)\n",
            "4\n",
            "Test Shape: X=(10000, 28, 28), y=(10000,)\n"
          ],
          "name": "stdout"
        },
        {
          "output_type": "display_data",
          "data": {
            "image/png": "[encoded data removed]",
            "text/plain": [
              "<Figure size 432x288 with 1 Axes>"
            ]
          },
          "metadata": {
            "tags": [],
            "needs_background": "light"
          }
        }
      ]
    },
    {
      "cell_type": "code",
      "metadata": {
        "id": "kA94wSEOwxx8"
      },
      "source": [
        ""
      ],
      "execution_count": null,
      "outputs": []
    }
  ]
}